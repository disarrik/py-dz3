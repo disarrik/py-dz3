{
 "cells": [
  {
   "cell_type": "code",
   "execution_count": 11,
   "id": "8aabecd8-1e78-409b-8818-4328f6efdb13",
   "metadata": {},
   "outputs": [],
   "source": [
    "class Account:\n",
    "    def __init__(self, name, balance):\n",
    "        self.name = name\n",
    "        self.balance = balance\n",
    "        self.balance = 0\n",
    "        self.transactions = []\n",
    "    \n",
    "    def put(self, amount):\n",
    "        self.__change(amount)\n",
    "\n",
    "    def get(self, amount):\n",
    "        self.__change(-amount)\n",
    "\n",
    "    def __change(self, amount):\n",
    "        self.balance += amount\n",
    "        self.transactions.append(amount)"
   ]
  },
  {
   "cell_type": "code",
   "execution_count": 13,
   "id": "6d26f196-b442-4ab5-a654-27b0ba02f100",
   "metadata": {},
   "outputs": [
    {
     "name": "stdout",
     "output_type": "stream",
     "text": [
      "Mike\n",
      "30\n",
      "[50, -20]\n"
     ]
    }
   ],
   "source": [
    "acc = Account(\"Mike\", 100)\n",
    "acc.put(50)\n",
    "acc.get(20)\n",
    "print(acc.name)\n",
    "print(acc.balance)\n",
    "print(acc.transactions)"
   ]
  },
  {
   "cell_type": "code",
   "execution_count": null,
   "id": "00e46893-6034-4372-885b-9af30804bfe9",
   "metadata": {},
   "outputs": [],
   "source": []
  }
 ],
 "metadata": {
  "kernelspec": {
   "display_name": "Python 3 (ipykernel)",
   "language": "python",
   "name": "python3"
  },
  "language_info": {
   "codemirror_mode": {
    "name": "ipython",
    "version": 3
   },
   "file_extension": ".py",
   "mimetype": "text/x-python",
   "name": "python",
   "nbconvert_exporter": "python",
   "pygments_lexer": "ipython3",
   "version": "3.12.6"
  }
 },
 "nbformat": 4,
 "nbformat_minor": 5
}
